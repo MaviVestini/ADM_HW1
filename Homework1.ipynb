{
 "cells": [
  {
   "cell_type": "markdown",
   "id": "f1b836b7",
   "metadata": {},
   "source": [
    "# Introduction"
   ]
  },
  {
   "cell_type": "markdown",
   "id": "972feca1",
   "metadata": {},
   "source": [
    "Say \"Hello, World!\" With Python"
   ]
  },
  {
   "cell_type": "code",
   "execution_count": null,
   "id": "ed1668d8",
   "metadata": {},
   "outputs": [],
   "source": [
    "if __name__ == '__main__':\n",
    "    print(\"Hello, World!\")\n"
   ]
  },
  {
   "cell_type": "markdown",
   "id": "10cb6024",
   "metadata": {},
   "source": [
    "Python If-Else"
   ]
  },
  {
   "cell_type": "code",
   "execution_count": null,
   "id": "7b16c7f6",
   "metadata": {},
   "outputs": [],
   "source": [
    "#!/bin/python3\n",
    "\n",
    "import math\n",
    "import os\n",
    "import random\n",
    "import re\n",
    "import sys\n",
    "\n",
    "\n",
    "\n",
    "if __name__ == '__main__':\n",
    "    n = int(input().strip())\n",
    "    if n % 2:\n",
    "      print(\"Weird\")\n",
    "    elif n <= 5:\n",
    "      print('Not Weird')\n",
    "    elif n <= 20:\n",
    "      print(\"Weird\")\n",
    "    else: \n",
    "      print('Not Weird')"
   ]
  },
  {
   "cell_type": "markdown",
   "id": "afa19453",
   "metadata": {},
   "source": [
    "Arithmetic Operators"
   ]
  },
  {
   "cell_type": "code",
   "execution_count": null,
   "id": "0a58966d",
   "metadata": {},
   "outputs": [],
   "source": [
    "if __name__ == '__main__':\n",
    "    a = int(input())\n",
    "    b = int(input())\n",
    "    \n",
    "    print (a+b)\n",
    "    print (a-b)\n",
    "    print (a*b)"
   ]
  },
  {
   "cell_type": "markdown",
   "id": "c2358a8d",
   "metadata": {},
   "source": [
    "Python: Division"
   ]
  },
  {
   "cell_type": "code",
   "execution_count": null,
   "id": "04fcc148",
   "metadata": {},
   "outputs": [],
   "source": [
    "if __name__ == '__main__':\n",
    "    a = int(input())\n",
    "    b = int(input())\n",
    "    \n",
    "    print (a//b)\n",
    "    print (a/b)"
   ]
  },
  {
   "cell_type": "markdown",
   "id": "10ec4420",
   "metadata": {},
   "source": [
    "Loops"
   ]
  },
  {
   "cell_type": "code",
   "execution_count": null,
   "id": "f3cf0646",
   "metadata": {},
   "outputs": [],
   "source": [
    "if __name__ == '__main__':\n",
    "    n = int(input())\n",
    "    aux = 0\n",
    "    \n",
    "    while aux < n:\n",
    "      print(aux*aux)\n",
    "      aux += 1"
   ]
  },
  {
   "cell_type": "markdown",
   "id": "a1f477a4",
   "metadata": {},
   "source": [
    "Write a function"
   ]
  },
  {
   "cell_type": "code",
   "execution_count": null,
   "id": "f836f8b5",
   "metadata": {},
   "outputs": [],
   "source": [
    "def is_leap(year):\n",
    "    leap = False\n",
    "    \n",
    "    if year%4 == 0:\n",
    "      leap = True\n",
    "      if year%100 == 0:\n",
    "        leap = False\n",
    "        if year%400 == 0:\n",
    "          leap = True\n",
    "    \n",
    "    return leap"
   ]
  },
  {
   "cell_type": "markdown",
   "id": "fbfd74c2",
   "metadata": {},
   "source": [
    "Print Function"
   ]
  },
  {
   "cell_type": "code",
   "execution_count": null,
   "id": "733635f3",
   "metadata": {},
   "outputs": [],
   "source": [
    "if __name__ == '__main__':\n",
    "    n = int(input())\n",
    "    s = \"\"\n",
    "    aux = 1\n",
    "    while aux <= n:\n",
    "      s += str(aux)\n",
    "      aux += 1\n",
    "    \n",
    "    print (s)"
   ]
  },
  {
   "cell_type": "markdown",
   "id": "d841fc73",
   "metadata": {},
   "source": [
    "# Basic Data Types"
   ]
  },
  {
   "cell_type": "markdown",
   "id": "3bd1c172",
   "metadata": {},
   "source": [
    "List Comprehensions"
   ]
  },
  {
   "cell_type": "code",
   "execution_count": null,
   "id": "c95a457b",
   "metadata": {},
   "outputs": [],
   "source": [
    "if __name__ == '__main__':\n",
    "    x = int(input())\n",
    "    y = int(input())\n",
    "    z = int(input())\n",
    "    n = int(input())\n",
    "    \n",
    "    print([[a, b, c] for a in range(x+1) for b in range(y+1) for c in range(z+1) if (a+b+c) != n])"
   ]
  },
  {
   "cell_type": "markdown",
   "id": "a914c6b1",
   "metadata": {},
   "source": [
    "Find the Runner-Up Score!"
   ]
  },
  {
   "cell_type": "code",
   "execution_count": null,
   "id": "d70d2816",
   "metadata": {},
   "outputs": [],
   "source": [
    "if __name__ == '__main__':\n",
    "    n = int(input())\n",
    "    arr = map(int, input().split())\n",
    "    scores = list(arr)\n",
    "    scores.sort()\n",
    "    scores.reverse()\n",
    "    max = int(scores[0])\n",
    "    for i in scores:\n",
    "      if max > int(i):\n",
    "        print(int(i))\n",
    "        break"
   ]
  },
  {
   "cell_type": "markdown",
   "id": "2d0a3de9",
   "metadata": {},
   "source": [
    "Nested Lists"
   ]
  },
  {
   "cell_type": "code",
   "execution_count": null,
   "id": "85cb708b",
   "metadata": {},
   "outputs": [],
   "source": [
    "if __name__ == '__main__':\n",
    "  students = []\n",
    "  s = []\n",
    "  for _ in range(int(input())):\n",
    "    name = input()\n",
    "    score = float(input())\n",
    "    students.append([name , score])\n",
    "    s.append(score)\n",
    "    s.sort() \n",
    "    aux = s[0]\n",
    "    for i in s:\n",
    "        if i > aux: # In case there are more that 1 that got the lowest grade\n",
    "            aux = i\n",
    "            break    \n",
    "    n = []\n",
    "    for v in students:\n",
    "    if v[1] == aux:\n",
    "        n.append(v[0])\n",
    "    n.sort()\n",
    "    for v in n:\n",
    "        print(v)"
   ]
  },
  {
   "cell_type": "markdown",
   "id": "87028dfe",
   "metadata": {},
   "source": [
    "Finding the percentage"
   ]
  },
  {
   "cell_type": "code",
   "execution_count": null,
   "id": "d12d5cbd",
   "metadata": {},
   "outputs": [],
   "source": [
    "if __name__ == '__main__':\n",
    "    n = int(input())\n",
    "    student_marks = {}\n",
    "    for _ in range(n):\n",
    "        name, *line = input().split()\n",
    "        scores = list(map(float, line))\n",
    "        student_marks[name] = scores\n",
    "    \n",
    "    query_name = input()\n",
    "    m = 0\n",
    "    s = 0\n",
    "    for v in student_marks[query_name]:\n",
    "      s += v\n",
    "      m += 1\n",
    "    print(\"{:.2f}\".format(s/m))"
   ]
  },
  {
   "cell_type": "markdown",
   "id": "9a1aa1e9",
   "metadata": {},
   "source": [
    "Lists"
   ]
  },
  {
   "cell_type": "code",
   "execution_count": null,
   "id": "d4843da8",
   "metadata": {},
   "outputs": [],
   "source": [
    "if __name__ == '__main__':\n",
    "    N = int(input())\n",
    "    idx = 0\n",
    "    arr = []\n",
    "    while idx < N:\n",
    "      idx += 1\n",
    "      task, *x = input().split()\n",
    "      if task == \"insert\":\n",
    "        arr.insert(int(x[0]), int(x[1]))\n",
    "      elif task == \"print\":\n",
    "        print(arr)\n",
    "      elif task == \"append\":\n",
    "        arr.append(int(x[0]))\n",
    "      elif task == \"sort\":\n",
    "        arr.sort()\n",
    "      elif task == \"pop\":\n",
    "        arr.pop()\n",
    "      elif task == \"reverse\":\n",
    "        arr.reverse()\n",
    "      elif task == \"remove\":\n",
    "        arr.remove(int(x[0]))"
   ]
  },
  {
   "cell_type": "markdown",
   "id": "e1d761b0",
   "metadata": {},
   "source": [
    "Tuples"
   ]
  },
  {
   "cell_type": "code",
   "execution_count": null,
   "id": "507987d0",
   "metadata": {},
   "outputs": [],
   "source": [
    "if __name__ == '__main__':\n",
    "    n = int(input())\n",
    "    integer_list = map(int, input().split())\n",
    "    \n",
    "    t=tuple(integer_list)\n",
    "    print(hash(t))"
   ]
  },
  {
   "cell_type": "markdown",
   "id": "a14112fb",
   "metadata": {},
   "source": [
    "# Strings"
   ]
  },
  {
   "cell_type": "markdown",
   "id": "efa5a3f4",
   "metadata": {},
   "source": [
    "sWAP cASE"
   ]
  },
  {
   "cell_type": "code",
   "execution_count": null,
   "id": "131cef3f",
   "metadata": {},
   "outputs": [],
   "source": [
    "def swap_case(s):\n",
    "  idx = 0\n",
    "  r = \"\"\n",
    "  while idx < len(s):\n",
    "    if s[idx].capitalize() == s[idx]:\n",
    "      r += s[idx].casefold()\n",
    "    else:\n",
    "      r += s[idx].capitalize()\n",
    "    idx += 1\n",
    "  return r"
   ]
  },
  {
   "cell_type": "markdown",
   "id": "cc6a2e92",
   "metadata": {},
   "source": [
    "String Split and Join"
   ]
  },
  {
   "cell_type": "code",
   "execution_count": null,
   "id": "0feedcb2",
   "metadata": {},
   "outputs": [],
   "source": [
    "def split_and_join(line):\n",
    "    # write your code here\n",
    "    a = line.split()\n",
    "    return \"-\".join(a)\n",
    "    \n",
    "if __name__ == '__main__':\n",
    "    line = input()\n",
    "    result = split_and_join(line)\n",
    "    print(result)"
   ]
  },
  {
   "cell_type": "markdown",
   "id": "30f08ec1",
   "metadata": {},
   "source": [
    "What's Your Name?"
   ]
  },
  {
   "cell_type": "code",
   "execution_count": null,
   "id": "8d7c3c55",
   "metadata": {},
   "outputs": [],
   "source": [
    "def print_full_name(first, last):\n",
    "    # Write your code here\n",
    "    print('Hello', first, last + '! You just delved into python.')\n"
   ]
  },
  {
   "cell_type": "markdown",
   "id": "0562ddf5",
   "metadata": {},
   "source": [
    "Mutations"
   ]
  },
  {
   "cell_type": "code",
   "execution_count": null,
   "id": "cf4adde0",
   "metadata": {},
   "outputs": [],
   "source": [
    "def mutate_string(string, position, character):\n",
    "    l = list(string)\n",
    "    l[position] = character\n",
    "    s = \"\".join(l)\n",
    "    return s"
   ]
  },
  {
   "cell_type": "markdown",
   "id": "f16ebf86",
   "metadata": {},
   "source": [
    "Find a string"
   ]
  },
  {
   "cell_type": "code",
   "execution_count": null,
   "id": "8e80c1d5",
   "metadata": {},
   "outputs": [],
   "source": [
    "def count_substring(string, sub_string):\n",
    "    idx = 0\n",
    "    count = 0\n",
    "    l = len(sub_string)\n",
    "    while idx <= (len(string) - l):\n",
    "        if string[idx:idx+l] == sub_string:\n",
    "            count += 1\n",
    "        idx += 1\n",
    "    return count"
   ]
  },
  {
   "cell_type": "markdown",
   "id": "8f8a340b",
   "metadata": {},
   "source": [
    "String Validators"
   ]
  },
  {
   "cell_type": "code",
   "execution_count": null,
   "id": "090838fb",
   "metadata": {},
   "outputs": [],
   "source": [
    "if __name__ == '__main__':\n",
    "    s = input()\n",
    "    r = [False, False, False, False, False]\n",
    "    for v in s:\n",
    "        if v.isalnum():\n",
    "            r[0] = True\n",
    "        if v.isalpha():\n",
    "            r[1] = True\n",
    "        if v.isdigit():\n",
    "            r[2] = True\n",
    "        if v.islower():\n",
    "            r[3] = True\n",
    "        if v.isupper():\n",
    "            r[4] = True\n",
    "    for v in r:\n",
    "        print(v)"
   ]
  },
  {
   "cell_type": "markdown",
   "id": "62de0e8c",
   "metadata": {},
   "source": [
    "Text Alignment"
   ]
  },
  {
   "cell_type": "code",
   "execution_count": null,
   "id": "d08eab96",
   "metadata": {},
   "outputs": [],
   "source": [
    "thickness = int(input()) #This must be an odd number\n",
    "c = 'H'\n",
    "\n",
    "#Top Cone\n",
    "for i in range(thickness):\n",
    "    print((c*i).rjust(thickness-1)+c+(c*i).ljust(thickness-1))\n",
    "\n",
    "#Top Pillars\n",
    "for i in range(thickness+1):\n",
    "    print((c*thickness).center(thickness*2)+(c*thickness).center(thickness*6))\n",
    "\n",
    "#Middle Belt\n",
    "for i in range((thickness+1)//2):\n",
    "    print((c*thickness*5).center(thickness*6))    \n",
    "\n",
    "#Bottom Pillars\n",
    "for i in range(thickness+1):\n",
    "    print((c*thickness).center(thickness*2)+(c*thickness).center(thickness*6))    \n",
    "\n",
    "#Bottom Cone\n",
    "for i in range(thickness):\n",
    "    print(((c*(thickness-i-1)).rjust(thickness)+c+(c*(thickness-i-1)).ljust(thickness)).rjust(thickness*6))"
   ]
  },
  {
   "cell_type": "markdown",
   "id": "8456d5e9",
   "metadata": {},
   "source": [
    "Text Wrap"
   ]
  },
  {
   "cell_type": "code",
   "execution_count": null,
   "id": "d0f3a4ce",
   "metadata": {},
   "outputs": [],
   "source": [
    "def wrap(string, max_width):\n",
    "    l = list(string)\n",
    "    i = 1\n",
    "    r = \"\"\n",
    "    for v in l:\n",
    "        r += str(v)\n",
    "        if i == max_width:\n",
    "            i = 1\n",
    "            r += \"\\n\"\n",
    "        else:\n",
    "            i += 1\n",
    "    return r"
   ]
  },
  {
   "cell_type": "markdown",
   "id": "fd522f88",
   "metadata": {},
   "source": [
    "Designer Door Mat"
   ]
  },
  {
   "cell_type": "code",
   "execution_count": null,
   "id": "8a4d4f8e",
   "metadata": {},
   "outputs": [],
   "source": [
    "# Enter your code here. Read input from STDIN. Print output to STDOUT\n",
    "a = input().split()\n",
    "N = int(a[0])\n",
    "M = int(a[1])\n",
    "d = \".|.\"\n",
    "\n",
    "#top\n",
    "for i in range(N // 2):\n",
    "    print(  ((2*i + 1) * d).center(3*N,\"-\"))\n",
    "    \n",
    "# Welcome\n",
    "print('WELCOME'.center(3*N,\"-\"))\n",
    "\n",
    "#bot\n",
    "for i in range(N // 2):\n",
    "    print( ((N - 2*(i+1)) * d).center(3*N,\"-\"))"
   ]
  },
  {
   "cell_type": "markdown",
   "id": "dcb0c2bd",
   "metadata": {},
   "source": [
    "String Formatting"
   ]
  },
  {
   "cell_type": "code",
   "execution_count": 2,
   "id": "43ff569c",
   "metadata": {},
   "outputs": [],
   "source": [
    "def print_formatted(number):\n",
    "    # your code goes here\n",
    "    l = len(str(bin(number))) - 2\n",
    "    n = 1\n",
    "    while n <= number:\n",
    "      print(str(n).rjust(l), oct(n)[2:].rjust(l), str(hex(n)[2:]).upper().rjust(l), bin(n)[2:].rjust(l))\n",
    "      n += 1"
   ]
  },
  {
   "cell_type": "markdown",
   "id": "2433ca30",
   "metadata": {},
   "source": [
    "Alphabet Rangoli"
   ]
  },
  {
   "cell_type": "code",
   "execution_count": null,
   "id": "f3ef7e21",
   "metadata": {},
   "outputs": [],
   "source": [
    "def print_rangoli(size):\n",
    "  # your code goes here\n",
    "  n = ord('a') + size - 1\n",
    "  r = chr(n)\n",
    "\n",
    "  for i in range(size): \n",
    "    print('-'.join(r).center(4*size-3,'-'))\n",
    "    r = r[0:len(r)//2 + 1] + chr(n - (i + 1)) + r[len(r)//2:]\n",
    "  \n",
    "  for i in range(size - 1): \n",
    "    aux = r[:(size-(i+1))] + r[size+(i+3):]\n",
    "    print('-'.join(aux).center(4*size-3,'-'))"
   ]
  },
  {
   "cell_type": "markdown",
   "id": "3b3a7136",
   "metadata": {},
   "source": [
    "Capitalize!"
   ]
  },
  {
   "cell_type": "code",
   "execution_count": null,
   "id": "1fdeef30",
   "metadata": {},
   "outputs": [],
   "source": [
    "def solve(s):\n",
    "  l = list(s)\n",
    "  m = ' '\n",
    "  r = ''\n",
    "  for v in l:\n",
    "    if m == ' ' and v != ' ':\n",
    "        r += v.capitalize()\n",
    "        m = v\n",
    "    else:\n",
    "      r += v\n",
    "      m = v\n",
    "  return r"
   ]
  },
  {
   "cell_type": "markdown",
   "id": "c8a287c1",
   "metadata": {},
   "source": [
    "The Minion Game"
   ]
  },
  {
   "cell_type": "code",
   "execution_count": null,
   "id": "83a032a0",
   "metadata": {},
   "outputs": [],
   "source": [
    "def minion_game(string):\n",
    "    # your code goes here\n",
    "    n = len(string)\n",
    "    vowels = ['A', 'E', 'I', 'O', 'U']\n",
    "    ps = 0\n",
    "    pk = 0\n",
    "    for i in range(len(string)):\n",
    "      if string[i] in vowels:\n",
    "        pk += len(string) - i\n",
    "      else:\n",
    "        ps += len(string) - i\n",
    "    if ps > pk:\n",
    "      print('Stuart', str(ps))\n",
    "    elif pk > ps:\n",
    "      print('Kevin', str(pk))\n",
    "    else:\n",
    "      print('Draw')"
   ]
  },
  {
   "cell_type": "markdown",
   "id": "5c4bfcff",
   "metadata": {},
   "source": [
    "Merge the Tools!"
   ]
  },
  {
   "cell_type": "code",
   "execution_count": null,
   "id": "b2d3852c",
   "metadata": {},
   "outputs": [],
   "source": [
    "def merge_the_tools(string, k):\n",
    " # your code goes here\n",
    "  for i in range(len(string)//k):\n",
    "    v = string [k*i:k*(i+1)]\n",
    "    l = ''\n",
    "    for j in range(k):\n",
    "      if v[j] not in l:\n",
    "        l += v[j]\n",
    "    print(l)  "
   ]
  },
  {
   "cell_type": "markdown",
   "id": "13952af7",
   "metadata": {},
   "source": [
    "# Sets"
   ]
  },
  {
   "cell_type": "markdown",
   "id": "bf5c505c",
   "metadata": {},
   "source": [
    "Introduction to Sets"
   ]
  },
  {
   "cell_type": "code",
   "execution_count": null,
   "id": "97e98543",
   "metadata": {},
   "outputs": [],
   "source": [
    "def average(array):\n",
    "  s = set(array)\n",
    "  \n",
    "  return round(sum(s)/len(s),3) #looked for the round function"
   ]
  },
  {
   "cell_type": "markdown",
   "id": "41603b39",
   "metadata": {},
   "source": [
    "No Idea!"
   ]
  },
  {
   "cell_type": "code",
   "execution_count": null,
   "id": "25953d73",
   "metadata": {},
   "outputs": [],
   "source": [
    "n, m = map(int, input().split())\n",
    "arr = list(map(int, input().split()))\n",
    "A = set(map(int, input().split()))\n",
    "B = set(map(int, input().split()))\n",
    "happy = 0\n",
    "\n",
    "for v in arr:\n",
    "    if v in A:\n",
    "        happy += 1\n",
    "    elif v in B:\n",
    "        happy -= 1\n",
    "print (happy)"
   ]
  },
  {
   "cell_type": "markdown",
   "id": "50142b63",
   "metadata": {},
   "source": [
    "Symmetric Difference"
   ]
  },
  {
   "cell_type": "code",
   "execution_count": null,
   "id": "897982ab",
   "metadata": {},
   "outputs": [],
   "source": [
    "M = int(input())\n",
    "a = set(input().split())\n",
    "N = int(input())\n",
    "b = set(input().split())\n",
    "\n",
    "l = []\n",
    "for v in a.union(b):\n",
    "  if v not in a.intersection(b):\n",
    "    l.append(int(v))\n",
    "\n",
    "l.sort()\n",
    "for v in l:\n",
    "  print(v)"
   ]
  },
  {
   "cell_type": "markdown",
   "id": "e7487633",
   "metadata": {},
   "source": [
    "Set .add()"
   ]
  },
  {
   "cell_type": "code",
   "execution_count": null,
   "id": "e09722d2",
   "metadata": {},
   "outputs": [],
   "source": [
    "k = int(input())\n",
    "countries = set()\n",
    "for i in range(k):\n",
    "    countries.add(input())\n",
    "print (len(countries))"
   ]
  },
  {
   "cell_type": "markdown",
   "id": "9fc35f59",
   "metadata": {},
   "source": [
    "Set .discard(), .remove() & .pop()"
   ]
  },
  {
   "cell_type": "code",
   "execution_count": null,
   "id": "016b0f56",
   "metadata": {},
   "outputs": [],
   "source": [
    "n = int(input())\n",
    "s = set(map(int, input().split()))\n",
    "h = int(input()) #number of commands\n",
    "for i in range(h):\n",
    "    command = input().split()\n",
    "    if command[0] == 'pop':\n",
    "        s.pop()\n",
    "    elif command[0] == 'remove':\n",
    "        s.remove(int(command[1]))\n",
    "    elif command[0] == 'discard':\n",
    "        s.discard(int(command[1]))\n",
    "print (sum(s))"
   ]
  },
  {
   "cell_type": "markdown",
   "id": "65a5d1fd",
   "metadata": {},
   "source": [
    "Set .union() Operation"
   ]
  },
  {
   "cell_type": "code",
   "execution_count": null,
   "id": "4853db56",
   "metadata": {},
   "outputs": [],
   "source": [
    "n = int(input())\n",
    "s1 = set(map(int, input().split()))\n",
    "m = int(input())\n",
    "s2 = set(map(int, input().split()))\n",
    "\n",
    "print(len(s1.union(s2)))"
   ]
  },
  {
   "cell_type": "markdown",
   "id": "5b782fa3",
   "metadata": {},
   "source": [
    "Set .intersection() Operation"
   ]
  },
  {
   "cell_type": "code",
   "execution_count": null,
   "id": "860810fc",
   "metadata": {},
   "outputs": [],
   "source": [
    "n = int(input())\n",
    "s1 = set(map(int, input().split()))\n",
    "m = int(input())\n",
    "s2 = set(map(int, input().split()))\n",
    "\n",
    "print(len(s1.intersection(s2)))"
   ]
  },
  {
   "cell_type": "markdown",
   "id": "970e728f",
   "metadata": {},
   "source": [
    "Set .difference() Operation"
   ]
  },
  {
   "cell_type": "code",
   "execution_count": null,
   "id": "64740ced",
   "metadata": {},
   "outputs": [],
   "source": [
    "n = int(input())\n",
    "s1 = set(map(int, input().split()))\n",
    "m = int(input())\n",
    "s2 = set(map(int, input().split()))\n",
    "\n",
    "print(len(s1.difference(s2)))"
   ]
  },
  {
   "cell_type": "markdown",
   "id": "6c724f52",
   "metadata": {},
   "source": [
    "Set .symmetric_difference() Operation"
   ]
  },
  {
   "cell_type": "code",
   "execution_count": null,
   "id": "c7edea32",
   "metadata": {},
   "outputs": [],
   "source": [
    "n = int(input())\n",
    "s1 = set(map(int, input().split()))\n",
    "m = int(input())\n",
    "s2 = set(map(int, input().split()))\n",
    "\n",
    "print(len(s1.symmetric_difference(s2)))"
   ]
  },
  {
   "cell_type": "markdown",
   "id": "f7b7cf3f",
   "metadata": {},
   "source": [
    "Set Mutations"
   ]
  },
  {
   "cell_type": "code",
   "execution_count": null,
   "id": "d7c57ae1",
   "metadata": {},
   "outputs": [],
   "source": [
    "n = int(input())\n",
    "s1 = set(map(int, input().split()))\n",
    "N = int(input())\n",
    "\n",
    "for i in range(N):\n",
    "    command = input().split()\n",
    "    m = int(command[1])\n",
    "    s2 = set(map(int, input().split()))\n",
    "    \n",
    "    if command[0] == 'intersection_update':\n",
    "        s1.intersection_update(s2)\n",
    "    elif command[0] == 'update':\n",
    "        s1.update(s2)\n",
    "    elif command[0] == 'symmetric_difference_update':\n",
    "        s1.symmetric_difference_update(s2)\n",
    "    elif command[0] == 'difference_update':\n",
    "        s1.difference_update(s2)\n",
    "\n",
    "print(sum(s1))"
   ]
  },
  {
   "cell_type": "markdown",
   "id": "f3919bab",
   "metadata": {},
   "source": [
    "The Captain's Room"
   ]
  },
  {
   "cell_type": "code",
   "execution_count": null,
   "id": "5f36e61e",
   "metadata": {},
   "outputs": [],
   "source": [
    "K = int(input())\n",
    "l = list(map(int, input().split()))\n",
    "s1 = set()\n",
    "s2 = set()\n",
    "\n",
    "for v in l:\n",
    "    if v not in s1:\n",
    "        s1.add(v)\n",
    "    else:\n",
    "        s2.add(v)\n",
    "print (sum(s1.difference(s2)))"
   ]
  },
  {
   "cell_type": "markdown",
   "id": "2dcfc56b",
   "metadata": {},
   "source": [
    "Check Subset"
   ]
  },
  {
   "cell_type": "code",
   "execution_count": null,
   "id": "6a13eac1",
   "metadata": {},
   "outputs": [],
   "source": [
    "T = int(input())\n",
    "\n",
    "for i in range(T):\n",
    "    c = 0\n",
    "    n = int(input())\n",
    "    s1 = set(map(int, input().split()))\n",
    "    m = int(input())\n",
    "    s2 = set(map(int, input().split()))\n",
    "    for v in s1:\n",
    "        if v not in s2:\n",
    "            print ('False')\n",
    "            c = 1\n",
    "            break\n",
    "    if not c:\n",
    "        print('True') "
   ]
  },
  {
   "cell_type": "markdown",
   "id": "79fbe38b",
   "metadata": {},
   "source": [
    "Check Strict Superset"
   ]
  },
  {
   "cell_type": "code",
   "execution_count": null,
   "id": "4bea3f92",
   "metadata": {},
   "outputs": [],
   "source": [
    "s1 = set(map(int, input().split()))\n",
    "N = int(input())\n",
    "k = 0\n",
    "\n",
    "for i in range(N):\n",
    "    k = 0\n",
    "    s2 = set(map(int, input().split()))\n",
    "    if len(s2) >= len(s1):\n",
    "        print('False')\n",
    "        k = 1\n",
    "        break\n",
    "        \n",
    "    for v in s2:\n",
    "        if v not in s1:\n",
    "            print('False')\n",
    "            k = 1\n",
    "            break    \n",
    "    if k:\n",
    "        break\n",
    "if not k:\n",
    "    print('True')"
   ]
  },
  {
   "cell_type": "markdown",
   "id": "be2b7e07",
   "metadata": {},
   "source": [
    "# Collections"
   ]
  },
  {
   "cell_type": "markdown",
   "id": "a055f8f4",
   "metadata": {},
   "source": [
    "collections.Counter()"
   ]
  },
  {
   "cell_type": "code",
   "execution_count": null,
   "id": "390772b7",
   "metadata": {},
   "outputs": [],
   "source": [
    "from collections import Counter\n",
    "X = int(input())\n",
    "L = list(map(int, input().split()))\n",
    "N = int(input())\n",
    "C = Counter(L)\n",
    "money = 0\n",
    "for i in range(N):\n",
    "    x, m = map(int, input().split())\n",
    "    if x in C.keys():\n",
    "        money += m\n",
    "        C[x] -= 1\n",
    "        if C[x] == 0:\n",
    "            del C[x]  #looked for the function to delate an element from dictionaries\n",
    "print(money)  "
   ]
  },
  {
   "cell_type": "markdown",
   "id": "5593acb0",
   "metadata": {},
   "source": [
    "DefaultDict Tutorial"
   ]
  },
  {
   "cell_type": "code",
   "execution_count": null,
   "id": "53c68cb3",
   "metadata": {},
   "outputs": [],
   "source": [
    "from collections import defaultdict\n",
    "n, m = map(int, input().split())\n",
    "A = defaultdict(list)\n",
    "B = []\n",
    "for i in range(n):\n",
    "    A[input()].append(str(i+1))\n",
    "\n",
    "for i in range(m):\n",
    "    B.append(input())\n",
    "\n",
    "for v in B:\n",
    "    if v in A.keys():\n",
    "        print(' '.join(A[v]))\n",
    "    else:\n",
    "        print(-1) "
   ]
  },
  {
   "cell_type": "markdown",
   "id": "6e96a9f6",
   "metadata": {},
   "source": [
    "Collections.namedtuple()"
   ]
  },
  {
   "cell_type": "code",
   "execution_count": null,
   "id": "5b6811a2",
   "metadata": {},
   "outputs": [],
   "source": [
    "from collections import namedtuple\n",
    "N = int(input())\n",
    "NT = namedtuple('NT', input().split())\n",
    "s = 0\n",
    "for i in range(N):\n",
    "    x = NT(*input().split())\n",
    "    s += float(x.MARKS)\n",
    "print(round(s/N, 2))"
   ]
  },
  {
   "cell_type": "markdown",
   "id": "947de4d8",
   "metadata": {},
   "source": [
    "Collections.OrderedDict()"
   ]
  },
  {
   "cell_type": "code",
   "execution_count": null,
   "id": "817b559f",
   "metadata": {},
   "outputs": [],
   "source": [
    "from collections import OrderedDict\n",
    "N = int(input())\n",
    "D = OrderedDict()\n",
    "for i in range(N):\n",
    "    *name, price = input().split()\n",
    "    name = ' '.join(name)\n",
    "    price = int(price)\n",
    "    if name in D.keys():\n",
    "        D[name] += price\n",
    "    else:\n",
    "        D[name] = price\n",
    "\n",
    "for v in D.keys():\n",
    "    print(v, D[v])"
   ]
  },
  {
   "cell_type": "markdown",
   "id": "86be726c",
   "metadata": {},
   "source": [
    "Word Order"
   ]
  },
  {
   "cell_type": "code",
   "execution_count": null,
   "id": "35be5977",
   "metadata": {},
   "outputs": [],
   "source": [
    "from collections import OrderedDict\n",
    "\n",
    "n = int(input())\n",
    "D = OrderedDict()\n",
    "for i in range(n):\n",
    "    line = input()\n",
    "    if line not in D.keys():\n",
    "        D[line] = 1\n",
    "    else:\n",
    "        D[line] += 1\n",
    "print(len(D.keys()))\n",
    "for v in D.keys():\n",
    "    print(D[v], end=\" \")"
   ]
  },
  {
   "cell_type": "markdown",
   "id": "9e78d2fe",
   "metadata": {},
   "source": [
    "Collections.deque()"
   ]
  },
  {
   "cell_type": "code",
   "execution_count": null,
   "id": "146f9d9c",
   "metadata": {},
   "outputs": [],
   "source": [
    "from collections import deque\n",
    "d = deque()\n",
    "N = int(input())\n",
    "for i in range(N):\n",
    "    com = list(input().split())\n",
    "    if com[0] == 'append':\n",
    "        d.append(com[1])\n",
    "    elif com[0] == 'appendleft':\n",
    "        d.appendleft(com[1])\n",
    "    elif com[0] == 'pop':\n",
    "        d.pop()\n",
    "    elif com[0] == 'popleft':\n",
    "        d.popleft()\n",
    "for v in d:\n",
    "    print(v, end=' ')"
   ]
  },
  {
   "cell_type": "markdown",
   "id": "1a83faeb",
   "metadata": {},
   "source": [
    "Company Logo"
   ]
  },
  {
   "cell_type": "code",
   "execution_count": null,
   "id": "5af05b8f",
   "metadata": {},
   "outputs": [],
   "source": [
    "import math\n",
    "import os\n",
    "import random\n",
    "import re\n",
    "import sys\n",
    "from collections import Counter\n",
    "\n",
    "if __name__ == '__main__':\n",
    "    s = sorted(input())\n",
    "    c = Counter(s).most_common(3)\n",
    "    \n",
    "    for v in c:\n",
    "        print(v[0], v[1])"
   ]
  },
  {
   "cell_type": "markdown",
   "id": "abf5bf0a",
   "metadata": {},
   "source": [
    "Piling Up!"
   ]
  },
  {
   "cell_type": "code",
   "execution_count": null,
   "id": "ec1c0e9b",
   "metadata": {},
   "outputs": [],
   "source": [
    "from collections import deque\n",
    "T = int(input())\n",
    "for _ in range(T):\n",
    "    idx = int(input())\n",
    "    d = deque(list(map(int, input().split())))\n",
    "    maxd = max(d)\n",
    "    while idx >=1:\n",
    "        m = max (d[0], d[-1])\n",
    "          \n",
    "        if d[0] >+ d[-1]:\n",
    "            d.popleft()\n",
    "        else :\n",
    "            d.pop()\n",
    "        idx -= 1\n",
    "        \n",
    "        if idx != 0 and m < max(d[0], d[-1]):\n",
    "            break\n",
    "            \n",
    "    if idx == 0:\n",
    "        print ('Yes')\n",
    "    else:\n",
    "        print ('No')"
   ]
  },
  {
   "cell_type": "markdown",
   "id": "58bdc168",
   "metadata": {},
   "source": [
    "# Date and Time"
   ]
  },
  {
   "cell_type": "markdown",
   "id": "d16f8349",
   "metadata": {},
   "source": [
    "Calendar Module"
   ]
  },
  {
   "cell_type": "code",
   "execution_count": null,
   "id": "df83211d",
   "metadata": {},
   "outputs": [],
   "source": [
    "import calendar\n",
    "day , month, year = map(int, input().split())\n",
    "c = calendar.weekday(year, day, month)\n",
    "print(calendar.day_name[c].upper())"
   ]
  },
  {
   "cell_type": "markdown",
   "id": "4dea52ca",
   "metadata": {},
   "source": [
    "Time Delta"
   ]
  },
  {
   "cell_type": "code",
   "execution_count": null,
   "id": "638bfaaf",
   "metadata": {},
   "outputs": [],
   "source": [
    "import math\n",
    "import os\n",
    "import random\n",
    "import re\n",
    "import sys\n",
    "import calendar\n",
    "from datetime import datetime # Found datetime and it's functions online\n",
    "\n",
    "def time_delta(t1, t2):\n",
    "  aux = '%a %d %b %Y %H:%M:%S %z' # looked at the format on the discussions\n",
    "  T1 = datetime.strptime(t1,aux)\n",
    "  T2 = datetime.strptime(t2,aux)\n",
    "  return str(round(abs((T1-T2).total_seconds())))\n",
    "  \n",
    "if __name__ == '__main__':\n",
    "    fptr = open(os.environ['OUTPUT_PATH'], 'w')\n",
    "\n",
    "    t = int(input())\n",
    "\n",
    "    for t_itr in range(t):\n",
    "        t1 = input()\n",
    "\n",
    "        t2 = input()\n",
    "\n",
    "        delta = time_delta(t1, t2)\n",
    "\n",
    "        fptr.write(delta + '\\n')\n",
    "\n",
    "    fptr.close()"
   ]
  },
  {
   "cell_type": "markdown",
   "id": "a8c7dedb",
   "metadata": {},
   "source": [
    "# Exceptions"
   ]
  },
  {
   "cell_type": "code",
   "execution_count": null,
   "id": "b6f3e109",
   "metadata": {},
   "outputs": [],
   "source": [
    "N = int(input())\n",
    "for i in range(N):\n",
    "    try:\n",
    "        a, b = map(int, input().split())\n",
    "        print(a//b)\n",
    "    except (ZeroDivisionError) as e:\n",
    "        print ('Error Code:', e)\n",
    "    except (ValueError) as a:\n",
    "        print('Error Code:', a)  "
   ]
  },
  {
   "cell_type": "markdown",
   "id": "5429d428",
   "metadata": {},
   "source": [
    "# Built-Ins"
   ]
  },
  {
   "cell_type": "markdown",
   "id": "799024ec",
   "metadata": {},
   "source": [
    "Zipped!"
   ]
  },
  {
   "cell_type": "code",
   "execution_count": null,
   "id": "102500c9",
   "metadata": {},
   "outputs": [],
   "source": [
    "N, X = map(int, input().split())\n",
    "Grades = []\n",
    "for i in range(X):\n",
    "    Grades.append(list(map(float, input().split())))\n",
    "Z = zip(*Grades)\n",
    "for v in Z:\n",
    "    print(sum(v)/X)"
   ]
  },
  {
   "cell_type": "markdown",
   "id": "73a0d99d",
   "metadata": {},
   "source": [
    "Athlete Sort"
   ]
  },
  {
   "cell_type": "code",
   "execution_count": null,
   "id": "18d2e86b",
   "metadata": {},
   "outputs": [],
   "source": [
    "import math\n",
    "import os\n",
    "import random\n",
    "import re\n",
    "import sys\n",
    "\n",
    "if __name__ == '__main__':\n",
    "    nm = input().split()\n",
    "    n = int(nm[0])\n",
    "    m = int(nm[1])\n",
    "    arr = []\n",
    "\n",
    "    for _ in range(n):\n",
    "        arr.append(list(map(int, input().rstrip().split())))\n",
    "\n",
    "    k = int(input())\n",
    "    arr.sort(key=lambda x: x[k])\n",
    "    # searched how to set the key command of sort function\n",
    "    for v in arr:\n",
    "        print (*v)"
   ]
  },
  {
   "cell_type": "markdown",
   "id": "c41608ba",
   "metadata": {},
   "source": [
    "ginortS"
   ]
  },
  {
   "cell_type": "code",
   "execution_count": null,
   "id": "7b151acd",
   "metadata": {},
   "outputs": [],
   "source": [
    "line = input()\n",
    "low = ''\n",
    "up = ''\n",
    "odd = ''\n",
    "even= ''\n",
    "for v in line:\n",
    "    if v.isnumeric():\n",
    "        if int(v)%2:\n",
    "            odd += v\n",
    "        else:\n",
    "            even += v\n",
    "    else:\n",
    "        if v.islower():\n",
    "            low += v\n",
    "        elif v.isupper():\n",
    "            up += v\n",
    "print(''.join(sorted(low)+sorted(up)+sorted(odd)+sorted(even)))"
   ]
  },
  {
   "cell_type": "markdown",
   "id": "dcb701f8",
   "metadata": {},
   "source": [
    "# Python Functionals"
   ]
  },
  {
   "cell_type": "markdown",
   "id": "82e68714",
   "metadata": {},
   "source": [
    "Map and Lambda Function"
   ]
  },
  {
   "cell_type": "code",
   "execution_count": null,
   "id": "519ce765",
   "metadata": {},
   "outputs": [],
   "source": [
    "cube = lambda x: x**3 # complete the lambda function \n",
    "\n",
    "def fibonacci(n):\n",
    "# return a list of fibonacci numbers\n",
    "    if n == 1:  \n",
    "        return [0]\n",
    "    elif n == 0:\n",
    "        return[]\n",
    "    \n",
    "    l = [0, 1]\n",
    "    idx=2\n",
    "    while idx<n:\n",
    "        l.append(l[idx-1]+l[idx-2])\n",
    "        idx += 1\n",
    "    return l"
   ]
  },
  {
   "cell_type": "markdown",
   "id": "4cdc9bcd",
   "metadata": {},
   "source": [
    "# Regex and Parsing challenges\n",
    "Note: I watched the discussions/solutions for most of this category,\n",
    "I never worked with regex bafore so I was trying to learn by watching the solutions"
   ]
  },
  {
   "cell_type": "markdown",
   "id": "5a5b2e0b",
   "metadata": {},
   "source": [
    "Detect Floating Point Number"
   ]
  },
  {
   "cell_type": "code",
   "execution_count": null,
   "id": "7d7a282c",
   "metadata": {},
   "outputs": [],
   "source": [
    "from collections import Counter\n",
    "T = int(input())\n",
    "sign = ['+', '-', '.']\n",
    "for _ in range(T):\n",
    "    fl = True\n",
    "    X = list(input())\n",
    "    C = Counter(X)\n",
    "    if sign[:2] in X[1:]:\n",
    "        fl = False\n",
    "    elif C['.'] != 1:\n",
    "        fl = False\n",
    "    elif len(X) == X.index('.')+1:\n",
    "        fl = False\n",
    "    try:\n",
    "        a = float(str(''.join(X)))\n",
    "    except ValueError as e:\n",
    "        fl = False\n",
    "    print(fl)"
   ]
  },
  {
   "cell_type": "markdown",
   "id": "663b3ce2",
   "metadata": {},
   "source": [
    "Re.split()"
   ]
  },
  {
   "cell_type": "code",
   "execution_count": null,
   "id": "974befe3",
   "metadata": {},
   "outputs": [],
   "source": [
    "regex_pattern = r\"[,.]\"\n",
    "#Looked at the solution, I wanted to know how to do it\n",
    "import re\n",
    "print(\"\\n\".join(re.split(regex_pattern, input())))"
   ]
  },
  {
   "cell_type": "markdown",
   "id": "5ad0bacb",
   "metadata": {},
   "source": [
    "Group(), Groups() & Groupdict()"
   ]
  },
  {
   "cell_type": "code",
   "execution_count": null,
   "id": "7e51c1a1",
   "metadata": {},
   "outputs": [],
   "source": [
    "import re\n",
    "S = input()\n",
    "m = re.findall(r\"([A-Za-z0-9])\\1+\",S)\n",
    "if len(m) > 0:\n",
    "    print(m[0])\n",
    "else: \n",
    "    print(-1)"
   ]
  },
  {
   "cell_type": "markdown",
   "id": "b9c8abcf",
   "metadata": {},
   "source": [
    "Re.findall() & Re.finditer()"
   ]
  },
  {
   "cell_type": "code",
   "execution_count": null,
   "id": "85081a9a",
   "metadata": {},
   "outputs": [],
   "source": [
    "import re\n",
    "A = re.findall(r'\\w',input())\n",
    "s = ''\n",
    "c = 0\n",
    "vowels = ['A','E','I','O','U','a','e','i','o','u']\n",
    "for i in range(len(A)):\n",
    "  if A[i] in vowels and i != 0:\n",
    "    s += A[i]\n",
    "  else:\n",
    "    if len(s) > 1:\n",
    "      print(s)\n",
    "      c += 1\n",
    "    s = ''\n",
    "if c == 0:\n",
    "  print(-1)"
   ]
  },
  {
   "cell_type": "markdown",
   "id": "33911188",
   "metadata": {},
   "source": [
    "Re.start() & Re.end()"
   ]
  },
  {
   "cell_type": "code",
   "execution_count": null,
   "id": "a09a6e5d",
   "metadata": {},
   "outputs": [],
   "source": [
    "import re \n",
    "#Looked at the solution\n",
    "S = input()\n",
    "k = input()\n",
    "\n",
    "if k not in S:\n",
    "    print ('(-1, -1)')\n",
    "else:\n",
    "    idx = 0\n",
    "    while idx <= len(S) - len(k):\n",
    "        s = S[idx:]\n",
    "        m = re.search(f\"({k})\", s)\n",
    "        if not m:\n",
    "            break\n",
    "        print((m.start()+idx, m.end()-1+idx))\n",
    "        idx = m.start()+1+idx"
   ]
  },
  {
   "cell_type": "markdown",
   "id": "e5630a04",
   "metadata": {},
   "source": [
    "Regex Substitution"
   ]
  },
  {
   "cell_type": "code",
   "execution_count": null,
   "id": "abf196f4",
   "metadata": {},
   "outputs": [],
   "source": [
    "import re\n",
    "#Looked at the solution\n",
    "N = int(input())\n",
    "s = ''\n",
    "for i in range(N):\n",
    "    s+= input() \n",
    "    if i != N-1:\n",
    "        s += '\\n'\n",
    "print(re.sub(r'(?<=\\s)(&&)(?=\\s)', \"and\", re.sub(r'(?<=\\s)(\\|\\|)(?=\\s)',\"or\", s)))"
   ]
  },
  {
   "cell_type": "markdown",
   "id": "7bafcd6d",
   "metadata": {},
   "source": [
    "Validating Roman Numerals"
   ]
  },
  {
   "cell_type": "code",
   "execution_count": null,
   "id": "df5f4f1a",
   "metadata": {},
   "outputs": [],
   "source": [
    "regex_pattern = r\"M{0,3}(CD|D{0,1}C{0,3}|CM)(XL|L{0,1}X{0,3}|XC)(IV|V{0,1}I{0,3}|IX)$\""
   ]
  },
  {
   "cell_type": "markdown",
   "id": "234978f2",
   "metadata": {},
   "source": [
    "Validating phone numbers"
   ]
  },
  {
   "cell_type": "code",
   "execution_count": null,
   "id": "8e6b9b44",
   "metadata": {},
   "outputs": [],
   "source": [
    "import re\n",
    "first = r\"(7?|8?|9?)$\" \n",
    "numeric = r'^\\d{10}$'\n",
    "N = int(input())\n",
    "for _ in range(N):\n",
    "  s = input()\n",
    "  if bool(re.match(first, s[0])) and bool(re.match(numeric, s)):\n",
    "    print('YES')\n",
    "  else:\n",
    "    print('NO')"
   ]
  },
  {
   "cell_type": "markdown",
   "id": "a72d7068",
   "metadata": {},
   "source": [
    "Validating and Parsing Email Addresses"
   ]
  },
  {
   "cell_type": "code",
   "execution_count": null,
   "id": "e95c424b",
   "metadata": {},
   "outputs": [],
   "source": [
    "import email.utils, re\n",
    "#Looked at the solution, for pattern doubt\n",
    "N = int(input())\n",
    "Pattern = r\"^[A-Za-z].+[\\@]{1}([A-Za-z])+[\\.]{1}[a-z]{1,3}$\"\n",
    "for _ in range(N):\n",
    "  S = input()\n",
    "  r = re.search(Pattern,email.utils.parseaddr(S)[1])\n",
    "  if r:\n",
    "    print (S)"
   ]
  },
  {
   "cell_type": "markdown",
   "id": "a5f77493",
   "metadata": {},
   "source": [
    "Hex Color Code"
   ]
  },
  {
   "cell_type": "code",
   "execution_count": null,
   "id": "3099134e",
   "metadata": {},
   "outputs": [],
   "source": [
    "import re\n",
    "#Looked at the solution, for pattern doubt\n",
    "Pattern = r'.(#[0-9A-Fa-f]{6}|#[0-9A-Fa-f]{3}).'\n",
    "N = int(input())\n",
    "for _ in range(N):\n",
    "  S = input()\n",
    "  f = re.findall(Pattern, S)\n",
    "  for v in f:\n",
    "    print(v"
   ]
  },
  {
   "cell_type": "markdown",
   "id": "1fb67fe4",
   "metadata": {},
   "source": [
    "# XML"
   ]
  },
  {
   "cell_type": "markdown",
   "id": "35766067",
   "metadata": {},
   "source": [
    "XML 1 - Find the Score"
   ]
  },
  {
   "cell_type": "code",
   "execution_count": null,
   "id": "d6f30e59",
   "metadata": {},
   "outputs": [],
   "source": [
    "def get_attr_number(node):\n",
    "    # your code goes here\n",
    "    attr_number = len(node.attrib)\n",
    "    for child in node:\n",
    "        attr_number += get_attr_number(child)\n",
    "    return attr_number"
   ]
  },
  {
   "cell_type": "markdown",
   "id": "96024e49",
   "metadata": {},
   "source": [
    "XML2 - Find the Maximum Depth"
   ]
  },
  {
   "cell_type": "code",
   "execution_count": null,
   "id": "eb315cce",
   "metadata": {},
   "outputs": [],
   "source": [
    "maxdepth = 0\n",
    "def depth(elem, level):\n",
    "    global maxdepth\n",
    "    if level == -1:\n",
    "        level = 0\n",
    "        \n",
    "    if len(elem) > 0:\n",
    "        level += 1\n",
    "        if level > maxdepth:\n",
    "            maxdepth = level\n",
    "        for v in elem:\n",
    "            depth(v, level)\n",
    "#looked at discussions"
   ]
  },
  {
   "cell_type": "markdown",
   "id": "c1dec5e0",
   "metadata": {},
   "source": [
    "# Closures and Decorators"
   ]
  },
  {
   "cell_type": "markdown",
   "id": "363fe515",
   "metadata": {},
   "source": [
    "Standardize Mobile Number Using Decorators"
   ]
  },
  {
   "cell_type": "code",
   "execution_count": null,
   "id": "3786b06a",
   "metadata": {},
   "outputs": [],
   "source": [
    "def wrapper(f):\n",
    "    def fun(l):\n",
    "        newl = []\n",
    "        for v in l:\n",
    "          newl.append(v[len(v)-10:])\n",
    "        newl.sort()\n",
    "        for v in newl:\n",
    "          print('+91', ''.join(v[:5]), ''.join(v[5:]) )\n",
    "    return fun"
   ]
  },
  {
   "cell_type": "markdown",
   "id": "0a7d443a",
   "metadata": {},
   "source": [
    "Decorators 2 - Name Directory"
   ]
  },
  {
   "cell_type": "code",
   "execution_count": null,
   "id": "1282d61a",
   "metadata": {},
   "outputs": [],
   "source": [
    "def person_lister(f):  # looked at the discussions \n",
    "    def inner(people):\n",
    "        people.sort(key=lambda x: int(x[2]))\n",
    "        return map(f, people)  \n",
    "    return inner"
   ]
  },
  {
   "cell_type": "markdown",
   "id": "b90f75e5",
   "metadata": {},
   "source": [
    "# Numpy"
   ]
  },
  {
   "cell_type": "markdown",
   "id": "51f2b219",
   "metadata": {},
   "source": [
    "Arrays"
   ]
  },
  {
   "cell_type": "code",
   "execution_count": null,
   "id": "a739427d",
   "metadata": {},
   "outputs": [],
   "source": [
    "def arrays(arr):\n",
    "    arr.reverse()\n",
    "    return numpy.array(arr,float)"
   ]
  },
  {
   "cell_type": "markdown",
   "id": "761d9564",
   "metadata": {},
   "source": [
    "Shape and Reshape"
   ]
  },
  {
   "cell_type": "code",
   "execution_count": null,
   "id": "80fcc520",
   "metadata": {},
   "outputs": [],
   "source": [
    "import numpy\n",
    "X = numpy.array(list(map(int, input().split())))\n",
    "print (numpy.reshape(X,(3,3)))"
   ]
  },
  {
   "cell_type": "markdown",
   "id": "d7595321",
   "metadata": {},
   "source": [
    "Transpose and Flatten"
   ]
  },
  {
   "cell_type": "code",
   "execution_count": null,
   "id": "1ca991a4",
   "metadata": {},
   "outputs": [],
   "source": [
    "import numpy\n",
    "N, M = map(int, input().split())\n",
    "l = []\n",
    "for i in range(N):\n",
    "    l.append(list(map(int, input().split())))\n",
    "Arr = numpy.array(l)\n",
    "print(numpy.transpose(Arr))\n",
    "print(Arr.flatten())"
   ]
  },
  {
   "cell_type": "markdown",
   "id": "4e3f44be",
   "metadata": {},
   "source": [
    "Concatenate"
   ]
  },
  {
   "cell_type": "code",
   "execution_count": null,
   "id": "7cf2f024",
   "metadata": {},
   "outputs": [],
   "source": [
    "import numpy\n",
    "\n",
    "N, M, P = map(int, input().split())\n",
    "n = []\n",
    "m = []\n",
    "for i in range(N):\n",
    "    n.append(list(map(int,input().split())))\n",
    "for i in range(M):\n",
    "    m.append(list(map(int,input().split())))\n",
    "\n",
    "arrn = numpy.array(n)\n",
    "arrm = numpy.array(m)\n",
    "print (numpy.concatenate((arrn, arrm)))"
   ]
  },
  {
   "cell_type": "markdown",
   "id": "9a6badc1",
   "metadata": {},
   "source": [
    "Zeros and Ones"
   ]
  },
  {
   "cell_type": "code",
   "execution_count": null,
   "id": "39880bc9",
   "metadata": {},
   "outputs": [],
   "source": [
    "import numpy\n",
    "X = list(map(int, input().split()))\n",
    "print(numpy.zeros(X, dtype=numpy.int))\n",
    "print(numpy.ones(X, dtype=numpy.int))"
   ]
  },
  {
   "cell_type": "markdown",
   "id": "3373fabb",
   "metadata": {},
   "source": [
    "Eye and Identity"
   ]
  },
  {
   "cell_type": "code",
   "execution_count": null,
   "id": "65e2548e",
   "metadata": {},
   "outputs": [],
   "source": [
    "#looked it up, I didn't know how to leave more space\n",
    "import numpy\n",
    "N, M = map(int, input().split())\n",
    "numpy.set_printoptions(sign=' ') \n",
    "print(numpy.eye(N,M))"
   ]
  },
  {
   "cell_type": "markdown",
   "id": "475506a5",
   "metadata": {},
   "source": [
    "Array Mathematics"
   ]
  },
  {
   "cell_type": "code",
   "execution_count": null,
   "id": "1b99d36a",
   "metadata": {},
   "outputs": [],
   "source": [
    "import numpy\n",
    "N, M = map(int, input().split())\n",
    "la = []\n",
    "lb = []\n",
    "for i in range(N):\n",
    "    la.append(list(map(int, input().split())))\n",
    "for i in range(N):\n",
    "    lb.append(list(map(int, input().split())))\n",
    "A = numpy.array(la)\n",
    "B = numpy.array(lb)\n",
    "print(A + B)\n",
    "print(A - B)\n",
    "print (A * B) \n",
    "print (A // B)\n",
    "print (A % B)\n",
    "print (A ** B)"
   ]
  },
  {
   "cell_type": "markdown",
   "id": "58dc5c95",
   "metadata": {},
   "source": [
    "Floor, Ceil and Rint"
   ]
  },
  {
   "cell_type": "code",
   "execution_count": null,
   "id": "429d95a1",
   "metadata": {},
   "outputs": [],
   "source": [
    "import numpy\n",
    "A = numpy.array(list(map(float, input().split())))\n",
    "numpy.set_printoptions(sign=' ')\n",
    "print (numpy.floor(A))\n",
    "print (numpy.ceil(A))\n",
    "print (numpy.rint(A))"
   ]
  },
  {
   "cell_type": "markdown",
   "id": "4589fa46",
   "metadata": {},
   "source": [
    "Sum and Prod"
   ]
  },
  {
   "cell_type": "code",
   "execution_count": null,
   "id": "53fe8112",
   "metadata": {},
   "outputs": [],
   "source": [
    "import numpy\n",
    "N, M = map(int, input().split())\n",
    "l = []\n",
    "for i in range(N):\n",
    "    l.append(list(map(int, input().split())))\n",
    "A = numpy.array(l)\n",
    "A = numpy.sum(A, axis = 0)\n",
    "print(numpy.prod(A))"
   ]
  },
  {
   "cell_type": "markdown",
   "id": "fa2e15a7",
   "metadata": {},
   "source": [
    "Min and Max"
   ]
  },
  {
   "cell_type": "code",
   "execution_count": null,
   "id": "0f0852a5",
   "metadata": {},
   "outputs": [],
   "source": [
    "import numpy\n",
    "N, M = map(int, input().split())\n",
    "l = []\n",
    "for i in range(N):\n",
    "    l.append(list(map(int, input().split())))\n",
    "A = numpy.array(l)\n",
    "A = numpy.min(A, axis=1)\n",
    "print(numpy.max(A))"
   ]
  },
  {
   "cell_type": "markdown",
   "id": "5126e86b",
   "metadata": {},
   "source": [
    "Mean, Var, and Std"
   ]
  },
  {
   "cell_type": "code",
   "execution_count": null,
   "id": "1a5fe488",
   "metadata": {},
   "outputs": [],
   "source": [
    "import numpy\n",
    "N, M = map(int, input().split())\n",
    "l = []\n",
    "for i in range(N):\n",
    "  l.append(list(map(int, input().split())))\n",
    "A = numpy.array(l)\n",
    "print(numpy.mean(A, axis = 1))\n",
    "print(numpy.var(A, axis = 0))\n",
    "print(round(numpy.std(A, axis = None), 11))"
   ]
  },
  {
   "cell_type": "markdown",
   "id": "22918994",
   "metadata": {},
   "source": [
    "Dot and Cross"
   ]
  },
  {
   "cell_type": "code",
   "execution_count": null,
   "id": "ed731a2c",
   "metadata": {},
   "outputs": [],
   "source": [
    "import numpy\n",
    "a = [] \n",
    "b = []\n",
    "N = int(input())\n",
    "for i in range(N):\n",
    "  a.append(list(map(int, input().split())))\n",
    "\n",
    "for i in range(N):\n",
    "  b.append(list(map(int, input().split())))\n",
    "  \n",
    "A = numpy.array(a)\n",
    "B = numpy.array(b)\n",
    "P = numpy.dot(A, B)\n",
    "print(P)"
   ]
  },
  {
   "cell_type": "markdown",
   "id": "10c7ebde",
   "metadata": {},
   "source": [
    "Inner and Outer"
   ]
  },
  {
   "cell_type": "code",
   "execution_count": null,
   "id": "a5b76fda",
   "metadata": {},
   "outputs": [],
   "source": [
    "import numpy\n",
    "\n",
    "A = numpy.array(list(map(int, input().split())))\n",
    "B = numpy.array(list(map(int, input().split())))\n",
    "\n",
    "print(numpy.inner(A, B))\n",
    "print(numpy.outer(A, B))"
   ]
  },
  {
   "cell_type": "markdown",
   "id": "c895eadd",
   "metadata": {},
   "source": [
    "Polynomials"
   ]
  },
  {
   "cell_type": "code",
   "execution_count": null,
   "id": "b4edb309",
   "metadata": {},
   "outputs": [],
   "source": [
    "import numpy\n",
    "P = list(map(float, input().split()))\n",
    "x = float(input())\n",
    "print(numpy.polyval(P,x))"
   ]
  },
  {
   "cell_type": "markdown",
   "id": "ea53e46d",
   "metadata": {},
   "source": [
    "Linear Algebra"
   ]
  },
  {
   "cell_type": "code",
   "execution_count": null,
   "id": "26df8799",
   "metadata": {},
   "outputs": [],
   "source": [
    "import numpy\n",
    "l = []\n",
    "for i in range(int(input())):\n",
    "  l.append(list(map(float, input().split())))\n",
    "print(round(numpy.linalg.det(numpy.array(l)),2))"
   ]
  },
  {
   "cell_type": "markdown",
   "id": "b014ba9d",
   "metadata": {},
   "source": [
    "# Birthday Cake Candles"
   ]
  },
  {
   "cell_type": "code",
   "execution_count": null,
   "id": "fce7585c",
   "metadata": {},
   "outputs": [],
   "source": [
    "#!/bin/python3\n",
    "import math\n",
    "import os\n",
    "import random\n",
    "import re\n",
    "import sys\n",
    "\n",
    "from collections import Counter\n",
    "def birthdayCakeCandles(candles):\n",
    "    # Write your code here\n",
    "    C = Counter(candles)\n",
    "    return C[max(C.keys())]\n",
    "    \n",
    "\n",
    "if __name__ == '__main__':\n",
    "    fptr = open(os.environ['OUTPUT_PATH'], 'w')\n",
    "\n",
    "    candles_count = int(input().strip())\n",
    "\n",
    "    candles = list(map(int, input().rstrip().split()))\n",
    "\n",
    "    result = birthdayCakeCandles(candles)\n",
    "\n",
    "    fptr.write(str(result) + '\\n')\n",
    "\n",
    "    fptr.close()"
   ]
  },
  {
   "cell_type": "markdown",
   "id": "9d290e60",
   "metadata": {},
   "source": [
    "# Number Line Jumps"
   ]
  },
  {
   "cell_type": "code",
   "execution_count": null,
   "id": "e86e53eb",
   "metadata": {},
   "outputs": [],
   "source": [
    "#!/bin/python3\n",
    "\n",
    "import math\n",
    "import os\n",
    "import random\n",
    "import re\n",
    "import sys\n",
    "\n",
    "def kangaroo(x1, v1, x2, v2):\n",
    "  if x2 < x1:\n",
    "    aux = x2\n",
    "    x2 = x1\n",
    "    x1 = aux\n",
    "    aux = v2\n",
    "    v2 = v1\n",
    "    v1 = aux\n",
    "    \n",
    "  if v1 <= v2: \n",
    "    return 'NO'\n",
    "  \n",
    "  if not (x2 - x1) % (v2 - v1): \n",
    "    return 'YES' \n",
    "  \n",
    "  return 'NO'\n",
    "    \n",
    "\n",
    "if __name__ == '__main__':\n",
    "    fptr = open(os.environ['OUTPUT_PATH'], 'w')\n",
    "\n",
    "    first_multiple_input = input().rstrip().split()\n",
    "\n",
    "    x1 = int(first_multiple_input[0])\n",
    "\n",
    "    v1 = int(first_multiple_input[1])\n",
    "\n",
    "    x2 = int(first_multiple_input[2])\n",
    "\n",
    "    v2 = int(first_multiple_input[3])\n",
    "\n",
    "    result = kangaroo(x1, v1, x2, v2)\n",
    "\n",
    "    fptr.write(result + '\\n')\n",
    "\n",
    "    fptr.close()"
   ]
  },
  {
   "cell_type": "markdown",
   "id": "97ee2227",
   "metadata": {},
   "source": [
    "# Viral Advertising"
   ]
  },
  {
   "cell_type": "code",
   "execution_count": null,
   "id": "f650c1d3",
   "metadata": {},
   "outputs": [],
   "source": [
    "#!/bin/python3\n",
    "\n",
    "import math\n",
    "import os\n",
    "import random\n",
    "import re\n",
    "import sys\n",
    "\n",
    "def viralAdvertising(n):\n",
    "    # Write your code here\n",
    "    likes = 0\n",
    "    rec = 5\n",
    "    for i in range(n):\n",
    "      aux = rec // 2\n",
    "      likes += aux\n",
    "      rec = aux * 3\n",
    "    return likes\n",
    "      \n",
    "\n",
    "if __name__ == '__main__':\n",
    "    fptr = open(os.environ['OUTPUT_PATH'], 'w')\n",
    "\n",
    "    n = int(input().strip())\n",
    "\n",
    "    result = viralAdvertising(n)\n",
    "\n",
    "    fptr.write(str(result) + '\\n')\n",
    "\n",
    "    fptr.close()"
   ]
  },
  {
   "cell_type": "markdown",
   "id": "ba3f5e05",
   "metadata": {},
   "source": [
    "# Recursive Digit Sum"
   ]
  },
  {
   "cell_type": "code",
   "execution_count": null,
   "id": "166917a2",
   "metadata": {},
   "outputs": [],
   "source": [
    "#!/bin/python3\n",
    "\n",
    "import math\n",
    "import os\n",
    "import random\n",
    "import re\n",
    "import sys\n",
    "\n",
    "def superDigit(n, k):\n",
    "    # Write your code here\n",
    "    P = n\n",
    "    idx = 1\n",
    "    while len(P) > 1:\n",
    "      if idx == 1:\n",
    "        P = str(k * sum(list(map(int, P[:]))))\n",
    "        idx = 2\n",
    "      else:\n",
    "        P = str(sum(list(map(int, P[:]))))\n",
    "    return int(P)    \n",
    "\n",
    "if __name__ == '__main__':\n",
    "    fptr = open(os.environ['OUTPUT_PATH'], 'w')\n",
    "\n",
    "    first_multiple_input = input().rstrip().split()\n",
    "\n",
    "    n = first_multiple_input[0]\n",
    "\n",
    "    k = int(first_multiple_input[1])\n",
    "\n",
    "    result = superDigit(n, k)\n",
    "\n",
    "    fptr.write(str(result) + '\\n')\n",
    "\n",
    "    fptr.close()"
   ]
  },
  {
   "cell_type": "markdown",
   "id": "af053694",
   "metadata": {},
   "source": [
    "# Insertion Sort - Part 1"
   ]
  },
  {
   "cell_type": "code",
   "execution_count": null,
   "id": "b659825a",
   "metadata": {},
   "outputs": [],
   "source": [
    "#!/bin/python3\n",
    "\n",
    "import math\n",
    "import os\n",
    "import random\n",
    "import re\n",
    "import sys\n",
    "\n",
    "def insertionSort1(n, arr):\n",
    "    # Write your code here\n",
    "    v = arr[n-1]\n",
    "    idx = n - 1\n",
    "    while True:\n",
    "      if arr[idx - 1] < v or idx == 0:\n",
    "        arr[idx] = v\n",
    "        print(' '.join(map(str, arr)))\n",
    "        break\n",
    "      arr[idx] = arr[idx-1]\n",
    "      idx -= 1\n",
    "      print(' '.join(map(str, arr)))\n",
    "\n",
    "if __name__ == '__main__':\n",
    "    n = int(input().strip())\n",
    "\n",
    "    arr = list(map(int, input().rstrip().split()))\n",
    "\n",
    "    insertionSort1(n, arr)"
   ]
  },
  {
   "cell_type": "markdown",
   "id": "fddae6f3",
   "metadata": {},
   "source": [
    "# Insertion Sort - Part 2"
   ]
  },
  {
   "cell_type": "code",
   "execution_count": null,
   "id": "b585c856",
   "metadata": {},
   "outputs": [],
   "source": [
    "#!/bin/python3\n",
    "\n",
    "import math\n",
    "import os\n",
    "import random\n",
    "import re\n",
    "import sys\n",
    "\n",
    "def insertionSort2(n, arr):\n",
    "    # Write your code here\n",
    "    for i in range(n-1):\n",
    "      if arr[i] > arr[i+1]:\n",
    "        aux = arr[i+1]\n",
    "        j = i\n",
    "        while j>=0 and arr[j] > aux:\n",
    "          arr[j+1] = arr[j]\n",
    "          j -= 1\n",
    "        arr[j+1] = aux\n",
    "      print(' '.join(map(str, arr)))   \n",
    "       \n",
    "if __name__ == '__main__':\n",
    "    n = int(input().strip())\n",
    "\n",
    "    arr = list(map(int, input().rstrip().split()))\n",
    "\n",
    "    insertionSort2(n, arr)"
   ]
  }
 ],
 "metadata": {
  "kernelspec": {
   "display_name": "Python 3 (ipykernel)",
   "language": "python",
   "name": "python3"
  },
  "language_info": {
   "codemirror_mode": {
    "name": "ipython",
    "version": 3
   },
   "file_extension": ".py",
   "mimetype": "text/x-python",
   "name": "python",
   "nbconvert_exporter": "python",
   "pygments_lexer": "ipython3",
   "version": "3.9.12"
  }
 },
 "nbformat": 4,
 "nbformat_minor": 5
}
